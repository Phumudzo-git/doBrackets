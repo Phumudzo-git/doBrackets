{
 "cells": [
  {
   "cell_type": "markdown",
   "metadata": {
    "colab_type": "text",
    "id": "eHGm8RQlK46m"
   },
   "source": [
    "# Get and explore dataset"
   ]
  },
  {
   "cell_type": "code",
   "execution_count": 1,
   "metadata": {
    "colab": {},
    "colab_type": "code",
    "id": "-erlYw1jXtgh"
   },
   "outputs": [],
   "source": [
    "import matplotlib.pyplot as plt\n",
    "from matplotlib import pyplot\n",
    "import numpy as np\n",
    "import re"
   ]
  },
  {
   "cell_type": "code",
   "execution_count": 2,
   "metadata": {
    "colab": {},
    "colab_type": "code",
    "id": "goZIhX8nII4T"
   },
   "outputs": [],
   "source": [
    "# Make results reproducible - set random seed\n",
    "from numpy.random import seed\n",
    "seed(42)"
   ]
  },
  {
   "cell_type": "code",
   "execution_count": 3,
   "metadata": {
    "colab": {},
    "colab_type": "code",
    "id": "v_fEysQHII4W",
    "tags": []
   },
   "outputs": [],
   "source": [
    "negative_file = \"negative.txt\"\n",
    "positive_file = \"positive.txt\""
   ]
  },
  {
   "cell_type": "code",
   "execution_count": 4,
   "metadata": {
    "colab": {},
    "colab_type": "code",
    "id": "0rWm4yycII4Y",
    "tags": []
   },
   "outputs": [],
   "source": [
    "# Do not modify - helper function to load and preprocess data\n",
    "def filter_words(line):    \n",
    "    line = re.sub(r'[^\\w\\s]','',line.rstrip())\n",
    "    words = line.split(\" \") \n",
    "    words = [i.lower() for i in words if i]      \n",
    "    return \" \".join(words)\n",
    "\n",
    "def load_data(filename):\n",
    "    thefile = open(filename, 'r') \n",
    "    lines = thefile.readlines() \n",
    "\n",
    "    data = []\n",
    "    for l in range(0,len(lines)): \n",
    "        if(lines[l-1].strip() == \"<title>\"): \n",
    "            theline = filter_words(lines[l])\n",
    "            if(len(theline) < 50):\n",
    "                data.append(theline)            \n",
    "            \n",
    "    return data\n",
    "\n",
    "# Helper function to convert categorical data to class label\n",
    "def to_word_label(y):\n",
    "    y = to_class(y)   \n",
    "    return [\"positive\" if i==0 else \"negative\" for i in y]\n",
    "\n",
    "# Helper function to convert class label to numeric label\n",
    "def to_numeric_label(y):\n",
    "    return [0 if i==\"positive\" else 1 for i in word_labels]\n",
    "\n",
    "# Helper function: this function needs to be called before sending arrays to sklearn metrics,\n",
    "# it converts back to class form from categorical form. ie: [1,0] --> 0, [0,1] --> 1\n",
    "def to_class(y):\n",
    "    return np.argmax(y,axis=1) "
   ]
  },
  {
   "cell_type": "code",
   "execution_count": 5,
   "metadata": {
    "colab": {
     "base_uri": "https://localhost:8080/",
     "height": 70
    },
    "colab_type": "code",
    "id": "jjGUiFm9II4b",
    "outputId": "aa5eb89b-85f2-4d61-f33a-b00361b19a41",
    "tags": []
   },
   "outputs": [
    {
     "name": "stdout",
     "output_type": "stream",
     "text": [
      "['one of the best crichton novels', 'the medicine of the future', 'beautiful', 'for lovers of robicheaux', 'a good book', 'to the point and beautifully illustrated', 'at least somebody has got it', 'beautifully written heartwarming story', 'an excellent cookbook full of delicious recipes', 'an outstanding resource']\n",
      "['horrible book horrible', 'shallow selfindulgence', 'horrible book horrible', 'disappointment', 'a disappointing mess', 'save your money there are better books out there', 'thank you but no thanks', 'unendurable', 'the hard way', 'some good info among the political commercial']\n"
     ]
    }
   ],
   "source": [
    "positive = load_data(positive_file)\n",
    "negative = load_data(negative_file)\n",
    "\n",
    "print(positive[0:10])\n",
    "print(negative[0:10])"
   ]
  },
  {
   "cell_type": "code",
   "execution_count": 6,
   "metadata": {
    "colab": {},
    "colab_type": "code",
    "id": "yrgEYOOCII4d",
    "tags": []
   },
   "outputs": [
    {
     "name": "stderr",
     "output_type": "stream",
     "text": [
      "Using TensorFlow backend.\n"
     ]
    }
   ],
   "source": [
    "# Do not modify - Combines the positive and negative reviews into a single list and create labels\n",
    "data = positive + negative\n",
    "word_labels = [\"positive\"] * len(positive) + [\"negative\"] * len(negative) \n",
    "\n",
    "# Converts labels to numbers in one-hot encoding - [1, 0] (positive) or [0, 1] (negative)\n",
    "from keras.utils import to_categorical\n",
    "labels  = to_categorical(to_numeric_label(word_labels))"
   ]
  },
  {
   "cell_type": "code",
   "execution_count": 7,
   "metadata": {
    "colab": {},
    "colab_type": "code",
    "id": "97Uh2uBpII4l",
    "tags": []
   },
   "outputs": [],
   "source": [
    "# Write some code to investigate the dataset. \n",
    "# - Calculate and report the mean review size, its standard deviation and create a boxplot.\n",
    "# - Calculate the number of words in the dataset\n",
    "# - Perform any other dataset investigation that you feel would be valuable\n",
    " "
   ]
  },
  {
   "cell_type": "code",
   "execution_count": 8,
   "metadata": {},
   "outputs": [],
   "source": [
    "# Section: Hypothesis testing\n",
    "# - What is the mean number of characters in positive and negative reviews respectively?\n",
    "# - What is the standard deviation around this mean for each?\n",
    "# - Conduct a hypothesis test to compare these values.\n",
    "# - Define a null and alternative hypothesis\n",
    "# - Use Scipy's t statistic and a significance level of 0.05\n",
    "# - Ensure you indicate using comments the different steps you follow to conduct your hypothesis test\n"
   ]
  },
  {
   "cell_type": "code",
   "execution_count": 9,
   "metadata": {
    "colab": {
     "base_uri": "https://localhost:8080/",
     "height": 50
    },
    "colab_type": "code",
    "id": "_XXnArgcII4i",
    "outputId": "020b2ee2-4c2a-4bc0-bb55-e2ae3841fe57",
    "tags": []
   },
   "outputs": [
    {
     "name": "stdout",
     "output_type": "stream",
     "text": [
      "['one of the best crichton novels', 'the medicine of the future', 'beautiful', 'for lovers of robicheaux', 'a good book']\n",
      "[[18, 4, 2, 19], [2, 4, 2], [], [6, 4], [1, 12, 3]]\n"
     ]
    }
   ],
   "source": [
    "# Do not modify - Tokenize the vocabulary \n",
    "from keras.preprocessing.text import Tokenizer\n",
    "\n",
    "tokenizer = Tokenizer(num_words=25)\n",
    "\n",
    "tokenizer.fit_on_texts(data) #create the vocabularry\n",
    "\n",
    "tokenized_data = tokenizer.texts_to_sequences(data) #tokenize the data using the vocabulary\n",
    "\n",
    "vocab_size = len(tokenizer.word_index) + 1 \n",
    "\n",
    "# Compare a sample of the data before and after tokenization\n",
    "print(data[0:5])\n",
    "print(tokenized_data[0:5])"
   ]
  },
  {
   "cell_type": "markdown",
   "metadata": {
    "colab_type": "text",
    "id": "_vsMmLjdK1Gf"
   },
   "source": [
    "# Pre-processing"
   ]
  },
  {
   "cell_type": "code",
   "execution_count": 10,
   "metadata": {
    "colab": {},
    "colab_type": "code",
    "id": "24DaXd1zII4q",
    "tags": []
   },
   "outputs": [],
   "source": [
    "# Pre-processing\n",
    "# Write some code to pre-process the data so that each review is the same length\n",
    "from keras.preprocessing.sequence import pad_sequences\n",
    "maxlen=25\n",
    "padded_docs = pad_sequences(tokenized_data, maxlen=maxlen, padding='post')"
   ]
  },
  {
   "cell_type": "code",
   "execution_count": 11,
   "metadata": {
    "colab": {},
    "colab_type": "code",
    "id": "AFTJcFy6II4s",
    "tags": []
   },
   "outputs": [],
   "source": [
    "# Write some code to split the data into a training and test set. Make sure you shuffle the data. Use 20% for the test set.\n",
    "from sklearn.model_selection import train_test_split\n",
    "x_train, x_test, y_train, y_test = train_test_split(padded_docs, labels, test_size=0.20, random_state=42)"
   ]
  },
  {
   "cell_type": "code",
   "execution_count": 12,
   "metadata": {
    "colab": {
     "base_uri": "https://localhost:8080/",
     "height": 128
    },
    "colab_type": "code",
    "id": "lDth1BSzII4u",
    "outputId": "4614049a-7151-4407-9bc8-54604bbe7fdd"
   },
   "outputs": [],
   "source": [
    "\n",
    "from sklearn.metrics import confusion_matrix, precision_score, recall_score, f1_score\n",
    "from sklearn.metrics import classification_report, confusion_matrix\n",
    "\n",
    "# Fill in the following function so it\n",
    "# - makes a prediction for the test set given the model\n",
    "# - reports the precision, recall and f1 score. Also print the confusion matrix. \n",
    "# You will need to use the helper to_class function to convert y_pred and y_test before supplying them to the sklearn functions.\n",
    "\n",
    "def assess_model(model, x_test, y_test):      \n",
    "    #To do\n",
    "    y_pred = model.predict(x_test)\n",
    "   # y_pred = to_class(y_pred)\n",
    "    y_pred = to_word_label(y_pred)\n",
    "    y_test = to_word_label(y_test)\n",
    "    metric_1 = classification_report(y_test, y_pred)\n",
    "    metric_2 = confusion_matrix(y_test, y_pred)\n",
    "    print(metric_1)\n",
    "    print(metric_2)  "
   ]
  },
  {
   "cell_type": "markdown",
   "metadata": {
    "colab_type": "text",
    "id": "nTqLbbE6MpGt"
   },
   "source": [
    "# Build and tune model"
   ]
  },
  {
   "cell_type": "markdown",
   "metadata": {
    "colab_type": "text",
    "id": "3X70rA4uMXNv"
   },
   "source": [
    "Define network architecture"
   ]
  },
  {
   "cell_type": "code",
   "execution_count": 13,
   "metadata": {
    "colab": {},
    "colab_type": "code",
    "id": "wKoXWKG4II5F"
   },
   "outputs": [
    {
     "name": "stdout",
     "output_type": "stream",
     "text": [
      "Model: \"sequential\"\n",
      "_________________________________________________________________\n",
      "Layer (type)                 Output Shape              Param #   \n",
      "=================================================================\n",
      "embedding (Embedding)        (None, 25, 200)           512000    \n",
      "_________________________________________________________________\n",
      "spatial_dropout1d (SpatialDr (None, 25, 200)           0         \n",
      "_________________________________________________________________\n",
      "batch_normalization (BatchNo (None, 25, 200)           800       \n",
      "_________________________________________________________________\n",
      "lstm (LSTM)                  (None, 32)                29824     \n",
      "_________________________________________________________________\n",
      "dense (Dense)                (None, 2)                 66        \n",
      "=================================================================\n",
      "Total params: 542,690\n",
      "Trainable params: 542,290\n",
      "Non-trainable params: 400\n",
      "_________________________________________________________________\n",
      "None\n"
     ]
    }
   ],
   "source": [
    "import tensorflow\n",
    "from tensorflow.keras.models import Sequential\n",
    "import tensorflow.keras.backend as K\n",
    "from keras.layers.embeddings import Embedding\n",
    "\n",
    "from tensorflow.keras import backend as K\n",
    "from tensorflow.keras.models import Sequential, load_model\n",
    "from tensorflow.keras.layers import LSTM, Dense, RepeatVector, Masking, TimeDistributed, Embedding, SpatialDropout1D, BatchNormalization\n",
    "from tensorflow. keras.utils import plot_model\n",
    "\n",
    "model = Sequential()\n",
    "model.add(Embedding(input_dim=vocab_size,output_dim=200, input_length=25))\n",
    "model.add(SpatialDropout1D(0.2))\n",
    "model.add(BatchNormalization())\n",
    "model.add(LSTM(units=32))\n",
    "model.add(Dense(units=2, activation='softmax'))\n",
    "#model.compile(loss='binary_crossentropy', optimizer='rmsprop', metrics=['accuracy'])\n",
    "model.compile(optimizer='adam', loss='binary_crossentropy', metrics=['acc'])\n",
    "print(model.summary())"
   ]
  },
  {
   "cell_type": "markdown",
   "metadata": {
    "colab_type": "text",
    "id": "llS0-VKBMbz-"
   },
   "source": [
    "Train model"
   ]
  },
  {
   "cell_type": "code",
   "execution_count": 14,
   "metadata": {
    "colab": {},
    "colab_type": "code",
    "id": "F5IJs0QuMe_I"
   },
   "outputs": [
    {
     "name": "stdout",
     "output_type": "stream",
     "text": [
      "Epoch 1/100\n",
      "9/9 [==============================] - 1s 76ms/step - loss: 0.7379 - acc: 0.4865 - val_loss: 0.6917 - val_acc: 0.5331\n",
      "Epoch 2/100\n",
      "9/9 [==============================] - 0s 27ms/step - loss: 0.7161 - acc: 0.5092 - val_loss: 0.6943 - val_acc: 0.4669\n",
      "Epoch 3/100\n",
      "9/9 [==============================] - 0s 27ms/step - loss: 0.7248 - acc: 0.4830 - val_loss: 0.6940 - val_acc: 0.4669\n",
      "Epoch 4/100\n",
      "9/9 [==============================] - 0s 27ms/step - loss: 0.7025 - acc: 0.5013 - val_loss: 0.6930 - val_acc: 0.5331\n",
      "Epoch 5/100\n",
      "9/9 [==============================] - 0s 26ms/step - loss: 0.7086 - acc: 0.4900 - val_loss: 0.6932 - val_acc: 0.4669\n",
      "Epoch 6/100\n",
      "9/9 [==============================] - 0s 25ms/step - loss: 0.7003 - acc: 0.5187 - val_loss: 0.6926 - val_acc: 0.5331\n",
      "Epoch 7/100\n",
      "9/9 [==============================] - 0s 25ms/step - loss: 0.6922 - acc: 0.5266 - val_loss: 0.6928 - val_acc: 0.5331\n",
      "Epoch 8/100\n",
      "9/9 [==============================] - 0s 25ms/step - loss: 0.7029 - acc: 0.5022 - val_loss: 0.6928 - val_acc: 0.5331\n",
      "Epoch 9/100\n",
      "9/9 [==============================] - 0s 24ms/step - loss: 0.7011 - acc: 0.4961 - val_loss: 0.6926 - val_acc: 0.5331\n",
      "Epoch 10/100\n",
      "9/9 [==============================] - 0s 31ms/step - loss: 0.6983 - acc: 0.5126 - val_loss: 0.6927 - val_acc: 0.5331\n",
      "Epoch 11/100\n",
      "9/9 [==============================] - 0s 29ms/step - loss: 0.6970 - acc: 0.5118 - val_loss: 0.6923 - val_acc: 0.5331\n",
      "Epoch 12/100\n",
      "9/9 [==============================] - 0s 27ms/step - loss: 0.6933 - acc: 0.5257 - val_loss: 0.6924 - val_acc: 0.5331\n",
      "Epoch 13/100\n",
      "9/9 [==============================] - 0s 28ms/step - loss: 0.6961 - acc: 0.5283 - val_loss: 0.6926 - val_acc: 0.5331\n",
      "Epoch 14/100\n",
      "9/9 [==============================] - 0s 27ms/step - loss: 0.6997 - acc: 0.5022 - val_loss: 0.6924 - val_acc: 0.5331\n",
      "Epoch 15/100\n",
      "9/9 [==============================] - 0s 27ms/step - loss: 0.7002 - acc: 0.4856 - val_loss: 0.6925 - val_acc: 0.5331\n",
      "Epoch 16/100\n",
      "9/9 [==============================] - 0s 26ms/step - loss: 0.7003 - acc: 0.4874 - val_loss: 0.6924 - val_acc: 0.5331\n",
      "Epoch 17/100\n",
      "9/9 [==============================] - 0s 27ms/step - loss: 0.6964 - acc: 0.5240 - val_loss: 0.6918 - val_acc: 0.5331\n",
      "Epoch 18/100\n",
      "9/9 [==============================] - 0s 27ms/step - loss: 0.6917 - acc: 0.5283 - val_loss: 0.6920 - val_acc: 0.5331\n",
      "Epoch 19/100\n",
      "9/9 [==============================] - 0s 26ms/step - loss: 0.6952 - acc: 0.4935 - val_loss: 0.6922 - val_acc: 0.5331\n",
      "Epoch 20/100\n",
      "9/9 [==============================] - 0s 27ms/step - loss: 0.6964 - acc: 0.4952 - val_loss: 0.6927 - val_acc: 0.5331\n",
      "Epoch 21/100\n",
      "9/9 [==============================] - 0s 27ms/step - loss: 0.6970 - acc: 0.4952 - val_loss: 0.6921 - val_acc: 0.5331\n",
      "Epoch 22/100\n",
      "9/9 [==============================] - 0s 28ms/step - loss: 0.6932 - acc: 0.5074 - val_loss: 0.6921 - val_acc: 0.5331\n",
      "Epoch 23/100\n",
      "9/9 [==============================] - 0s 27ms/step - loss: 0.6950 - acc: 0.5004 - val_loss: 0.6921 - val_acc: 0.5331\n",
      "Epoch 24/100\n",
      "9/9 [==============================] - 0s 29ms/step - loss: 0.6956 - acc: 0.5100 - val_loss: 0.6925 - val_acc: 0.5331\n",
      "Epoch 25/100\n",
      "9/9 [==============================] - 0s 29ms/step - loss: 0.6942 - acc: 0.4978 - val_loss: 0.6926 - val_acc: 0.5331\n",
      "Epoch 26/100\n",
      "9/9 [==============================] - 0s 28ms/step - loss: 0.6935 - acc: 0.5170 - val_loss: 0.6927 - val_acc: 0.5331\n",
      "Epoch 27/100\n",
      "9/9 [==============================] - 0s 27ms/step - loss: 0.6945 - acc: 0.5118 - val_loss: 0.6921 - val_acc: 0.5331\n",
      "Epoch 28/100\n",
      "9/9 [==============================] - 0s 27ms/step - loss: 0.6986 - acc: 0.4882 - val_loss: 0.6926 - val_acc: 0.5331\n",
      "Epoch 29/100\n",
      "9/9 [==============================] - 0s 27ms/step - loss: 0.6938 - acc: 0.5100 - val_loss: 0.6936 - val_acc: 0.4669\n",
      "Epoch 30/100\n",
      "9/9 [==============================] - 0s 27ms/step - loss: 0.6949 - acc: 0.5170 - val_loss: 0.6930 - val_acc: 0.5331\n",
      "Epoch 31/100\n",
      "9/9 [==============================] - 0s 26ms/step - loss: 0.6999 - acc: 0.4699 - val_loss: 0.6930 - val_acc: 0.5331\n",
      "Epoch 32/100\n",
      "9/9 [==============================] - 0s 28ms/step - loss: 0.6918 - acc: 0.5205 - val_loss: 0.6930 - val_acc: 0.5331\n",
      "Epoch 33/100\n",
      "9/9 [==============================] - 0s 27ms/step - loss: 0.6931 - acc: 0.5196 - val_loss: 0.6923 - val_acc: 0.5331\n",
      "Epoch 34/100\n",
      "9/9 [==============================] - 0s 27ms/step - loss: 0.6931 - acc: 0.5248 - val_loss: 0.6925 - val_acc: 0.5331\n",
      "Epoch 35/100\n",
      "9/9 [==============================] - 0s 26ms/step - loss: 0.6974 - acc: 0.4978 - val_loss: 0.6924 - val_acc: 0.5331\n",
      "Epoch 36/100\n",
      "9/9 [==============================] - 0s 26ms/step - loss: 0.6992 - acc: 0.4856 - val_loss: 0.6927 - val_acc: 0.5331\n",
      "Epoch 37/100\n",
      "9/9 [==============================] - 0s 26ms/step - loss: 0.6908 - acc: 0.5283 - val_loss: 0.6923 - val_acc: 0.5331\n",
      "Epoch 38/100\n",
      "9/9 [==============================] - 0s 26ms/step - loss: 0.6931 - acc: 0.5144 - val_loss: 0.6930 - val_acc: 0.5331\n",
      "Epoch 39/100\n",
      "9/9 [==============================] - 0s 26ms/step - loss: 0.6948 - acc: 0.4943 - val_loss: 0.6925 - val_acc: 0.5331\n",
      "Epoch 40/100\n",
      "9/9 [==============================] - 0s 27ms/step - loss: 0.6963 - acc: 0.4900 - val_loss: 0.6927 - val_acc: 0.5331\n",
      "Epoch 41/100\n",
      "9/9 [==============================] - 0s 26ms/step - loss: 0.6961 - acc: 0.4987 - val_loss: 0.6933 - val_acc: 0.4669\n",
      "Epoch 42/100\n",
      "9/9 [==============================] - 0s 26ms/step - loss: 0.6959 - acc: 0.4874 - val_loss: 0.6928 - val_acc: 0.5331\n",
      "Epoch 43/100\n",
      "9/9 [==============================] - 0s 25ms/step - loss: 0.6947 - acc: 0.5196 - val_loss: 0.6925 - val_acc: 0.5331\n",
      "Epoch 44/100\n",
      "9/9 [==============================] - 0s 26ms/step - loss: 0.6981 - acc: 0.4708 - val_loss: 0.6922 - val_acc: 0.5331\n",
      "Epoch 45/100\n",
      "9/9 [==============================] - 0s 26ms/step - loss: 0.6957 - acc: 0.4900 - val_loss: 0.6924 - val_acc: 0.5331\n",
      "Epoch 46/100\n",
      "9/9 [==============================] - 0s 26ms/step - loss: 0.6954 - acc: 0.4917 - val_loss: 0.6918 - val_acc: 0.5331\n",
      "Epoch 47/100\n",
      "9/9 [==============================] - 0s 27ms/step - loss: 0.6934 - acc: 0.5222 - val_loss: 0.6918 - val_acc: 0.5331\n",
      "Epoch 48/100\n",
      "9/9 [==============================] - 0s 26ms/step - loss: 0.6967 - acc: 0.4839 - val_loss: 0.6923 - val_acc: 0.5331\n",
      "Epoch 49/100\n",
      "9/9 [==============================] - 0s 25ms/step - loss: 0.6952 - acc: 0.5074 - val_loss: 0.6925 - val_acc: 0.5331\n",
      "Epoch 50/100\n",
      "9/9 [==============================] - 0s 26ms/step - loss: 0.6942 - acc: 0.5048 - val_loss: 0.6930 - val_acc: 0.5366\n",
      "Epoch 51/100\n",
      "9/9 [==============================] - 0s 26ms/step - loss: 0.6938 - acc: 0.5100 - val_loss: 0.6927 - val_acc: 0.5331\n",
      "Epoch 52/100\n",
      "9/9 [==============================] - 0s 26ms/step - loss: 0.6928 - acc: 0.5048 - val_loss: 0.6928 - val_acc: 0.5331\n",
      "Epoch 53/100\n",
      "9/9 [==============================] - 0s 26ms/step - loss: 0.6939 - acc: 0.5231 - val_loss: 0.6934 - val_acc: 0.4669\n",
      "Epoch 54/100\n",
      "9/9 [==============================] - 0s 26ms/step - loss: 0.6947 - acc: 0.4961 - val_loss: 0.6936 - val_acc: 0.4669\n",
      "Epoch 55/100\n",
      "9/9 [==============================] - 0s 26ms/step - loss: 0.6931 - acc: 0.5161 - val_loss: 0.6930 - val_acc: 0.5087\n",
      "Epoch 56/100\n",
      "9/9 [==============================] - 0s 25ms/step - loss: 0.6954 - acc: 0.4961 - val_loss: 0.6925 - val_acc: 0.5331\n",
      "Epoch 57/100\n",
      "9/9 [==============================] - 0s 25ms/step - loss: 0.6906 - acc: 0.5353 - val_loss: 0.6929 - val_acc: 0.5714\n",
      "Epoch 58/100\n",
      "9/9 [==============================] - 0s 25ms/step - loss: 0.6937 - acc: 0.5109 - val_loss: 0.6931 - val_acc: 0.4704\n",
      "Epoch 59/100\n",
      "9/9 [==============================] - 0s 26ms/step - loss: 0.6960 - acc: 0.4996 - val_loss: 0.6928 - val_acc: 0.5436\n",
      "Epoch 60/100\n",
      "9/9 [==============================] - 0s 25ms/step - loss: 0.6948 - acc: 0.4996 - val_loss: 0.6922 - val_acc: 0.5331\n",
      "Epoch 61/100\n",
      "9/9 [==============================] - 0s 26ms/step - loss: 0.6956 - acc: 0.4839 - val_loss: 0.6916 - val_acc: 0.5331\n",
      "Epoch 62/100\n",
      "9/9 [==============================] - 0s 25ms/step - loss: 0.6920 - acc: 0.5153 - val_loss: 0.6920 - val_acc: 0.5331\n",
      "Epoch 63/100\n"
     ]
    },
    {
     "name": "stdout",
     "output_type": "stream",
     "text": [
      "9/9 [==============================] - 0s 26ms/step - loss: 0.6940 - acc: 0.5048 - val_loss: 0.6928 - val_acc: 0.5819\n",
      "Epoch 64/100\n",
      "9/9 [==============================] - 0s 25ms/step - loss: 0.6944 - acc: 0.5118 - val_loss: 0.6921 - val_acc: 0.5331\n",
      "Epoch 65/100\n",
      "9/9 [==============================] - 0s 26ms/step - loss: 0.6925 - acc: 0.5135 - val_loss: 0.6927 - val_acc: 0.5645\n",
      "Epoch 66/100\n",
      "9/9 [==============================] - 0s 25ms/step - loss: 0.6962 - acc: 0.4682 - val_loss: 0.6923 - val_acc: 0.5331\n",
      "Epoch 67/100\n",
      "9/9 [==============================] - 0s 26ms/step - loss: 0.6973 - acc: 0.4900 - val_loss: 0.6920 - val_acc: 0.5331\n",
      "Epoch 68/100\n",
      "9/9 [==============================] - 0s 25ms/step - loss: 0.6932 - acc: 0.5248 - val_loss: 0.6926 - val_acc: 0.5401\n",
      "Epoch 69/100\n",
      "9/9 [==============================] - 0s 26ms/step - loss: 0.6944 - acc: 0.5109 - val_loss: 0.6929 - val_acc: 0.4913\n",
      "Epoch 70/100\n",
      "9/9 [==============================] - 0s 25ms/step - loss: 0.6940 - acc: 0.5057 - val_loss: 0.6935 - val_acc: 0.4669\n",
      "Epoch 71/100\n",
      "9/9 [==============================] - 0s 26ms/step - loss: 0.6942 - acc: 0.5048 - val_loss: 0.6923 - val_acc: 0.5436\n",
      "Epoch 72/100\n",
      "9/9 [==============================] - 0s 25ms/step - loss: 0.6930 - acc: 0.5231 - val_loss: 0.6918 - val_acc: 0.5331\n",
      "Epoch 73/100\n",
      "9/9 [==============================] - 0s 26ms/step - loss: 0.6948 - acc: 0.4987 - val_loss: 0.6917 - val_acc: 0.5331\n",
      "Epoch 74/100\n",
      "9/9 [==============================] - 0s 26ms/step - loss: 0.6953 - acc: 0.4978 - val_loss: 0.6914 - val_acc: 0.5331\n",
      "Epoch 75/100\n",
      "9/9 [==============================] - 0s 26ms/step - loss: 0.6958 - acc: 0.4917 - val_loss: 0.6925 - val_acc: 0.6516\n",
      "Epoch 76/100\n",
      "9/9 [==============================] - 0s 25ms/step - loss: 0.6952 - acc: 0.5004 - val_loss: 0.6916 - val_acc: 0.5366\n",
      "Epoch 77/100\n",
      "9/9 [==============================] - 0s 26ms/step - loss: 0.6928 - acc: 0.5327 - val_loss: 0.6913 - val_acc: 0.5331\n",
      "Epoch 78/100\n",
      "9/9 [==============================] - 0s 25ms/step - loss: 0.6938 - acc: 0.5196 - val_loss: 0.6909 - val_acc: 0.5331\n",
      "Epoch 79/100\n",
      "9/9 [==============================] - 0s 26ms/step - loss: 0.6942 - acc: 0.5048 - val_loss: 0.6905 - val_acc: 0.5331\n",
      "Epoch 80/100\n",
      "9/9 [==============================] - 0s 26ms/step - loss: 0.6968 - acc: 0.4717 - val_loss: 0.6902 - val_acc: 0.5331\n",
      "Epoch 81/100\n",
      "9/9 [==============================] - 0s 26ms/step - loss: 0.6941 - acc: 0.4952 - val_loss: 0.6903 - val_acc: 0.5331\n",
      "Epoch 82/100\n",
      "9/9 [==============================] - 0s 26ms/step - loss: 0.6918 - acc: 0.5240 - val_loss: 0.6898 - val_acc: 0.5331\n",
      "Epoch 83/100\n",
      "9/9 [==============================] - 0s 26ms/step - loss: 0.6928 - acc: 0.5170 - val_loss: 0.6890 - val_acc: 0.5331\n",
      "Epoch 84/100\n",
      "9/9 [==============================] - 0s 26ms/step - loss: 0.6923 - acc: 0.5118 - val_loss: 0.6875 - val_acc: 0.5366\n",
      "Epoch 85/100\n",
      "9/9 [==============================] - 0s 28ms/step - loss: 0.6913 - acc: 0.5222 - val_loss: 0.6848 - val_acc: 0.6690\n",
      "Epoch 86/100\n",
      "9/9 [==============================] - 0s 30ms/step - loss: 0.6904 - acc: 0.5310 - val_loss: 0.6762 - val_acc: 0.6376\n",
      "Epoch 87/100\n",
      "9/9 [==============================] - 0s 30ms/step - loss: 0.6851 - acc: 0.5711 - val_loss: 0.6651 - val_acc: 0.6446\n",
      "Epoch 88/100\n",
      "9/9 [==============================] - 0s 27ms/step - loss: 0.6808 - acc: 0.5763 - val_loss: 0.6539 - val_acc: 0.6725\n",
      "Epoch 89/100\n",
      "9/9 [==============================] - 0s 25ms/step - loss: 0.6825 - acc: 0.5667 - val_loss: 0.6491 - val_acc: 0.6655\n",
      "Epoch 90/100\n",
      "9/9 [==============================] - 0s 28ms/step - loss: 0.6715 - acc: 0.5963 - val_loss: 0.6459 - val_acc: 0.6620\n",
      "Epoch 91/100\n",
      "9/9 [==============================] - 0s 27ms/step - loss: 0.6652 - acc: 0.6068 - val_loss: 0.6370 - val_acc: 0.6725\n",
      "Epoch 92/100\n",
      "9/9 [==============================] - 0s 27ms/step - loss: 0.6638 - acc: 0.6312 - val_loss: 0.6613 - val_acc: 0.6098\n",
      "Epoch 93/100\n",
      "9/9 [==============================] - 0s 27ms/step - loss: 0.6687 - acc: 0.6024 - val_loss: 0.6527 - val_acc: 0.6376\n",
      "Epoch 94/100\n",
      "9/9 [==============================] - 0s 28ms/step - loss: 0.6603 - acc: 0.6207 - val_loss: 0.6536 - val_acc: 0.6481\n",
      "Epoch 95/100\n",
      "9/9 [==============================] - 0s 28ms/step - loss: 0.6592 - acc: 0.6216 - val_loss: 0.6549 - val_acc: 0.6341\n",
      "Epoch 96/100\n",
      "9/9 [==============================] - 0s 28ms/step - loss: 0.6615 - acc: 0.6181 - val_loss: 0.6586 - val_acc: 0.6307\n",
      "Epoch 97/100\n",
      "9/9 [==============================] - 0s 28ms/step - loss: 0.6626 - acc: 0.6173 - val_loss: 0.6601 - val_acc: 0.6376\n",
      "Epoch 98/100\n",
      "9/9 [==============================] - 0s 29ms/step - loss: 0.6631 - acc: 0.6138 - val_loss: 0.6558 - val_acc: 0.6341\n",
      "Epoch 99/100\n",
      "9/9 [==============================] - 0s 29ms/step - loss: 0.6593 - acc: 0.6199 - val_loss: 0.6565 - val_acc: 0.6272\n",
      "Epoch 100/100\n",
      "9/9 [==============================] - 0s 28ms/step - loss: 0.6543 - acc: 0.6234 - val_loss: 0.6529 - val_acc: 0.6307\n"
     ]
    }
   ],
   "source": [
    "# fit the model\n",
    "history = model.fit(x_train, y_train, batch_size=128, epochs=100, verbose=1, validation_split=0.2)\n",
    "#model.fit(x_train, y_train, epochs=100, verbose=0)"
   ]
  },
  {
   "cell_type": "markdown",
   "metadata": {
    "colab_type": "text",
    "id": "rniBBEiyMRKD"
   },
   "source": [
    "Examine performance of model"
   ]
  },
  {
   "cell_type": "code",
   "execution_count": 15,
   "metadata": {
    "colab": {},
    "colab_type": "code",
    "id": "eBVogHg2II5T",
    "tags": []
   },
   "outputs": [
    {
     "name": "stdout",
     "output_type": "stream",
     "text": [
      "12/12 [==============================] - 0s 2ms/step - loss: 0.6695 - acc: 0.6045\n",
      "Test Score: 0.6694649457931519\n",
      "Test Accuracy: 0.6044568419456482\n"
     ]
    }
   ],
   "source": [
    "score = model.evaluate(x_test, y_test, verbose=1)\n",
    "print(\"Test Score:\", score[0])\n",
    "print(\"Test Accuracy:\", score[1])"
   ]
  },
  {
   "cell_type": "markdown",
   "metadata": {
    "colab_type": "text",
    "id": "HB8kzt-IME4U"
   },
   "source": [
    "Plot graphs for accuracy and loss"
   ]
  },
  {
   "cell_type": "code",
   "execution_count": 16,
   "metadata": {
    "colab": {},
    "colab_type": "code",
    "id": "hPyJ78unMJUI"
   },
   "outputs": [
    {
     "data": {
      "image/png": "[encoded data removed]",
      "text/plain": [
       "<Figure size 432x288 with 1 Axes>"
      ]
     },
     "metadata": {
      "needs_background": "light"
     },
     "output_type": "display_data"
    },
    {
     "data": {
      "image/png": "[encoded data removed]",
      "text/plain": [
       "<Figure size 432x288 with 1 Axes>"
      ]
     },
     "metadata": {
      "needs_background": "light"
     },
     "output_type": "display_data"
    }
   ],
   "source": [
    "import matplotlib.pyplot as plt\n",
    "\n",
    "plt.plot(history.history['acc'])\n",
    "plt.plot(history.history['val_acc'])\n",
    "\n",
    "plt.title('model accuracy')\n",
    "plt.ylabel('accuracy')\n",
    "plt.xlabel('epoch')\n",
    "plt.legend(['train','test'], loc = 'upper left')\n",
    "plt.show()\n",
    "\n",
    "plt.plot(history.history['loss'])\n",
    "plt.plot(history.history['val_loss'])\n",
    "\n",
    "plt.title('model loss')\n",
    "plt.ylabel('loss')\n",
    "plt.xlabel('epoch')\n",
    "plt.legend(['train','test'], loc = 'upper left')\n",
    "plt.show()"
   ]
  },
  {
   "cell_type": "markdown",
   "metadata": {
    "colab_type": "text",
    "id": "eAZ1LyFBMLoK"
   },
   "source": [
    "# Make a prediction"
   ]
  },
  {
   "cell_type": "code",
   "execution_count": 17,
   "metadata": {
    "colab": {},
    "colab_type": "code",
    "id": "vfPM5LokII5V",
    "tags": []
   },
   "outputs": [
    {
     "data": {
      "text/plain": [
       "array([1, 1, 0, 0, 1], dtype=int64)"
      ]
     },
     "execution_count": 17,
     "metadata": {},
     "output_type": "execute_result"
    }
   ],
   "source": [
    "# This is a very small set of completed new data to use to make predictions.\n",
    "prediction_data = [\"this book is fabulous\",\"i hated this book\", \"the best\", \"no good\", \"okay\"]\n",
    "tokenized = tokenizer.texts_to_sequences(prediction_data)\n",
    "padded = pad_sequences(tokenized, padding='post', maxlen=maxlen)\n",
    "\n",
    "# Supply this data to each of your models and see how it does. \n",
    "# You can call the helper function \"to_word_label\" to map the output of the model to the name of the\n",
    "# class it was predicted to belong to.\n",
    "y_pred = model.predict(padded)\n",
    "to_class(y_pred)\n",
    "\n",
    "\n"
   ]
  },
  {
   "cell_type": "code",
   "execution_count": 18,
   "metadata": {},
   "outputs": [
    {
     "name": "stdout",
     "output_type": "stream",
     "text": [
      "              precision    recall  f1-score   support\n",
      "\n",
      "    negative       0.59      0.75      0.66       183\n",
      "    positive       0.64      0.45      0.53       176\n",
      "\n",
      "    accuracy                           0.60       359\n",
      "   macro avg       0.61      0.60      0.59       359\n",
      "weighted avg       0.61      0.60      0.59       359\n",
      "\n",
      "[[138  45]\n",
      " [ 97  79]]\n"
     ]
    }
   ],
   "source": [
    "assess_model(model, x_test, y_test)"
   ]
  },
  {
   "cell_type": "code",
   "execution_count": null,
   "metadata": {},
   "outputs": [],
   "source": []
  },
  {
   "cell_type": "code",
   "execution_count": null,
   "metadata": {},
   "outputs": [],
   "source": []
  },
  {
   "cell_type": "code",
   "execution_count": null,
   "metadata": {},
   "outputs": [],
   "source": []
  }
 ],
 "metadata": {
  "colab": {
   "collapsed_sections": [],
   "name": "L3T20.ipynb",
   "provenance": []
  },
  "kernelspec": {
   "display_name": "Python 3",
   "language": "python",
   "name": "python3"
  },
  "language_info": {
   "codemirror_mode": {
    "name": "ipython",
    "version": 3
   },
   "file_extension": ".py",
   "mimetype": "text/x-python",
   "name": "python",
   "nbconvert_exporter": "python",
   "pygments_lexer": "ipython3",
   "version": "3.8.3"
  }
 },
 "nbformat": 4,
 "nbformat_minor": 1
}
